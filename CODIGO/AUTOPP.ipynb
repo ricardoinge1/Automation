{
  "nbformat": 4,
  "nbformat_minor": 0,
  "metadata": {
    "colab": {
      "provenance": [],
      "authorship_tag": "ABX9TyMWlYjxgiemTUeLUqpoENPM",
      "include_colab_link": true
    },
    "kernelspec": {
      "name": "python3",
      "display_name": "Python 3"
    },
    "language_info": {
      "name": "python"
    }
  },
  "cells": [
    {
      "cell_type": "markdown",
      "metadata": {
        "id": "view-in-github",
        "colab_type": "text"
      },
      "source": [
        "<a href=\"https://colab.research.google.com/github/ricardoinge1/Automation/blob/main/CODIGO/AUTOPP.ipynb\" target=\"_parent\"><img src=\"https://colab.research.google.com/assets/colab-badge.svg\" alt=\"Open In Colab\"/></a>"
      ]
    },
    {
      "cell_type": "markdown",
      "source": [
        "MONTAMOS EL GOOGLE DRIVE"
      ],
      "metadata": {
        "id": "IvDg87o-sVf0"
      }
    },
    {
      "cell_type": "code",
      "execution_count": null,
      "metadata": {
        "id": "aE19N1glsQKg"
      },
      "outputs": [],
      "source": [
        "from google.colab import drive\n",
        "drive.mount('/content/drive')"
      ]
    },
    {
      "cell_type": "markdown",
      "source": [
        "IMPORTAMOS LAS LIBRERIAS"
      ],
      "metadata": {
        "id": "TRXUwST5se77"
      }
    },
    {
      "cell_type": "code",
      "source": [
        "!pip install python-pptx\n",
        "from pptx import Presentation\n",
        "from pptx.util import Inches, Pt\n",
        "from pptx.enum.text import PP_ALIGN\n",
        "import os\n",
        "import math"
      ],
      "metadata": {
        "id": "zLsBnknXsUdk"
      },
      "execution_count": null,
      "outputs": []
    },
    {
      "cell_type": "markdown",
      "source": [
        "RUTAS DEL GOOGLE DRIVE"
      ],
      "metadata": {
        "id": "49KfBZcwsv5w"
      }
    },
    {
      "cell_type": "code",
      "source": [
        "imagen1 = \"/content/drive/MyDrive/AUTOPP/INGENICAM.png\"  # IMAGEN SUPERIOR IZQUIERDA\n",
        "carpeta_logo = \"/content/drive/MyDrive/AUTOPP/LOGO DE LA EMPRESA\" #IMAGEN DEL LOGO DE LA EMPRESA CON LA QUE SE TRABAJARA\n",
        "carpeta1 = \"/content/drive/MyDrive/AUTOPP/IMAGENES ANTES\"     # IMAGENES DEL ANTES (LADO IZQUIERDO)\n",
        "carpeta2 = \"/content/drive/MyDrive/AUTOPP/IMAGENES DESPUES\"   # IMAGENES DEL DESPUES (LADO DERECHO)"
      ],
      "metadata": {
        "id": "FSxP3jfQs1-3"
      },
      "execution_count": null,
      "outputs": []
    },
    {
      "cell_type": "markdown",
      "source": [
        "CREAMOS LA PRESENTACIONES Y SE AÑADEN LAS IMAGENES"
      ],
      "metadata": {
        "id": "Y4KmPZJ-s_3W"
      }
    },
    {
      "cell_type": "code",
      "source": [
        "#PRIMERO SE BUSCARA LA IMAGEN DEL LOGO DE LA CARPETA DE LOGO DE LA EMPRESA\n",
        "imagen2 = None\n",
        "for archivo in os.listdir(carpeta_logo):\n",
        "    if archivo.lower().endswith(('.png', '.jpg', '.jpeg')):\n",
        "        imagen2 = os.path.join(carpeta_logo, archivo)\n",
        "        break\n",
        "\n",
        "# SE CREA LA PRESENTACIÓN VACÍA\n",
        "prs = Presentation()\n",
        "slide_width = prs.slide_width\n",
        "slide_height = prs.slide_height\n",
        "\n",
        "# SE DEFINEN EL TAMAÑO DE LAS IMAGENES\n",
        "img1_top = Inches(0.3)\n",
        "img1_left = Inches(0.3)\n",
        "img_width = Inches(2.5)\n",
        "img_height = Inches(2.5)\n",
        "img_space = Inches(0.3)\n",
        "\n",
        "# SE DEFINE LA POSICION DE LA SEGUNDA IMAGEN (LA DEL LOGO DE LA EMPRESA CON LA QUE SE TRABAJA) A LA DERECHA\n",
        "img2_left = slide_width - img_width - Inches(0.3)\n",
        "\n",
        "# PRIMERA DIAPOSITIVA\n",
        "slide = prs.slides.add_slide(prs.slide_layouts[6])\n",
        "slide.shapes.add_picture(imagen1, img1_left, img1_top, width=img_width)\n",
        "slide.shapes.add_picture(imagen2, img2_left, img1_top, width=img_width)\n",
        "\n",
        "#PARTE DEL CODIGO PARA PONER EL TEXTO \"PROYECTO\"\n",
        "txBox = slide.shapes.add_textbox(\n",
        "    left=slide_width / 4,\n",
        "    top=slide_height / 2 - Inches(0.5),\n",
        "    width=slide_width / 2,\n",
        "    height=Inches(1)\n",
        ")\n",
        "tf = txBox.text_frame\n",
        "p = tf.paragraphs[0]\n",
        "p.text = \"PROYECTO:\"\n",
        "p.alignment = PP_ALIGN.CENTER\n",
        "p.font.size = Pt(44)\n",
        "\n",
        "# DEMÁS DIAPOSITIVAS (BUCLE PARA LAS DEMAS DIAPOSITIVAS)\n",
        "#SE BUSCAN LAS IMAGENES DE LAS CARPETAS\n",
        "imagenes_carpeta1 = sorted([os.path.join(carpeta1, f)\n",
        "                            for f in os.listdir(carpeta1)\n",
        "                            if f.lower().endswith(('.png', '.jpg', '.jpeg'))])\n",
        "imagenes_carpeta2 = sorted([os.path.join(carpeta2, f)\n",
        "                            for f in os.listdir(carpeta2)\n",
        "                            if f.lower().endswith(('.png', '.jpg', '.jpeg'))])\n",
        "\n",
        "#SE BUSCA QUE TODAS LAS IMAGENES QUEDEN BIEN EN LAS DIAPOSITIVAS\n",
        "num_imagenes = max(len(imagenes_carpeta1), len(imagenes_carpeta2))\n",
        "num_diapos = math.ceil(num_imagenes / 2)\n",
        "\n",
        "#SE EMPIEZA A METER LAS IMAGENES EN LAS DIAPOSITIVAS\n",
        "for i in range(num_diapos):\n",
        "    slide = prs.slides.add_slide(prs.slide_layouts[6]) #SE VAN CREANDO NUEVAS DIAPOSITIVAS\n",
        "\n",
        "    #LAS IMAGENES DEL LOGO DE LA EMPRESA Y LA DEL LOGO DE LA EMPRESA CON LA QUE SE TRABAJA SE REPITEN EN TODAS LAS DEMAS DIAPOSITIVAS\n",
        "    slide.shapes.add_picture(imagen1, img1_left, img1_top, width=img_width)\n",
        "    slide.shapes.add_picture(imagen2, img2_left, img1_top, width=img_width)\n",
        "\n",
        "    #SE PONEN LAS IMAGENES DEL ANTES Y DESPUES\n",
        "    offset_top = img1_top + Inches(2)\n",
        "\n",
        "    #PRIMERO SE PONDRA LAS IMAGENES DEL ANTES (LADO IZQUIERDO)\n",
        "    for j in range(2): #PARA CADA DIAPOSITIVA SE PONDRA DOS IMAGENES DEL ANTES\n",
        "        idx = i * 2 + j\n",
        "        if idx < len(imagenes_carpeta1):\n",
        "            top = offset_top + j * (img_height + img_space)\n",
        "            slide.shapes.add_picture(imagenes_carpeta1[idx], img1_left, top, width=img_width)\n",
        "\n",
        "            #AQUI SE AGREGARA EL TEXTO DEBAJO DE CADA IMAGEN\n",
        "            txBox = slide.shapes.add_textbox(\n",
        "                left=img1_left,\n",
        "                top=top + img_height - Inches(1),\n",
        "                width=img_width,\n",
        "                height=Inches(0.5)\n",
        "            )\n",
        "            tf = txBox.text_frame\n",
        "            p = tf.paragraphs[0]\n",
        "            p.text = \"ANTES\"\n",
        "            p.alignment = PP_ALIGN.CENTER\n",
        "            p.font.size = Pt(18)\n",
        "#DESPUES SE PONDRAN LAS IMAGENES DEL LADO DERECHO\n",
        "    for j in range(2):\n",
        "        idx = i * 2 + j\n",
        "        if idx < len(imagenes_carpeta2):\n",
        "            top = offset_top + j * (img_height + img_space)\n",
        "            slide.shapes.add_picture(imagenes_carpeta2[idx], img2_left, top, width=img_width)\n",
        "\n",
        "            txBox = slide.shapes.add_textbox(\n",
        "                left=img2_left,\n",
        "                top=top + img_height - Inches(1),\n",
        "                width=img_width,\n",
        "                height=Inches(0.5)\n",
        "            )\n",
        "            tf = txBox.text_frame\n",
        "            p = tf.paragraphs[0]\n",
        "            p.text = \"DESPUES\"\n",
        "            p.alignment = PP_ALIGN.CENTER\n",
        "            p.font.size = Pt(18)\n"
      ],
      "metadata": {
        "id": "Ov0sxozFtEcF"
      },
      "execution_count": null,
      "outputs": []
    },
    {
      "cell_type": "markdown",
      "source": [
        "GUARDAR LA PRESENTACIÓN EN GOOGLE DRIVE"
      ],
      "metadata": {
        "id": "Hqjer-NLxFLw"
      }
    },
    {
      "cell_type": "code",
      "source": [
        "output_path = \"/content/drive/MyDrive/AUTOPP/AUTOMATIZACION_DOCUMENTO.pptx\"\n",
        "prs.save(output_path)"
      ],
      "metadata": {
        "id": "ubwj_EEdxG6Q"
      },
      "execution_count": null,
      "outputs": []
    }
  ]
}