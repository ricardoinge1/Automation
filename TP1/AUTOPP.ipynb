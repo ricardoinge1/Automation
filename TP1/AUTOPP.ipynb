{
  "nbformat": 4,
  "nbformat_minor": 0,
  "metadata": {
    "colab": {
      "provenance": [],
      "authorship_tag": "ABX9TyMWlYjxgiemTUeLUqpoENPM",
      "include_colab_link": true
    },
    "kernelspec": {
      "name": "python3",
      "display_name": "Python 3"
    },
    "language_info": {
      "name": "python"
    }
  },
  "cells": [
    {
      "cell_type": "markdown",
      "metadata": {
        "id": "view-in-github",
        "colab_type": "text"
      },
      "source": [
        "<a href=\"https://colab.research.google.com/github/ricardoinge1/Automation/blob/main/TP1/AUTOPP.ipynb\" target=\"_parent\"><img src=\"https://colab.research.google.com/assets/colab-badge.svg\" alt=\"Open In Colab\"/></a>"
      ]
    },
    {
      "cell_type": "markdown",
      "source": [
        "MONTAMOS EL GOOGLE DRIVE"
      ],
      "metadata": {
        "id": "IvDg87o-sVf0"
      }
    },
    {
      "cell_type": "code",
      "execution_count": null,
      "metadata": {
        "colab": {
          "base_uri": "https://localhost:8080/"
        },
        "id": "aE19N1glsQKg",
        "outputId": "13695f42-c9a0-41b7-96f7-23b3d6b58505"
      },
      "outputs": [
        {
          "output_type": "stream",
          "name": "stdout",
          "text": [
            "Mounted at /content/drive\n"
          ]
        }
      ],
      "source": [
        "from google.colab import drive\n",
        "drive.mount('/content/drive')"
      ]
    },
    {
      "cell_type": "markdown",
      "source": [
        "IMPORTAMOS LAS LIBRERIAS"
      ],
      "metadata": {
        "id": "TRXUwST5se77"
      }
    },
    {
      "cell_type": "code",
      "source": [
        "!pip install python-pptx\n",
        "from pptx import Presentation\n",
        "from pptx.util import Inches, Pt\n",
        "from pptx.enum.text import PP_ALIGN\n",
        "import os\n",
        "import math"
      ],
      "metadata": {
        "colab": {
          "base_uri": "https://localhost:8080/"
        },
        "id": "zLsBnknXsUdk",
        "outputId": "039cab10-152e-47cf-fdec-e8a1ae19843c"
      },
      "execution_count": null,
      "outputs": [
        {
          "output_type": "stream",
          "name": "stdout",
          "text": [
            "Collecting python-pptx\n",
            "  Downloading python_pptx-1.0.2-py3-none-any.whl.metadata (2.5 kB)\n",
            "Requirement already satisfied: Pillow>=3.3.2 in /usr/local/lib/python3.11/dist-packages (from python-pptx) (11.1.0)\n",
            "Collecting XlsxWriter>=0.5.7 (from python-pptx)\n",
            "  Downloading XlsxWriter-3.2.3-py3-none-any.whl.metadata (2.7 kB)\n",
            "Requirement already satisfied: lxml>=3.1.0 in /usr/local/lib/python3.11/dist-packages (from python-pptx) (5.3.2)\n",
            "Requirement already satisfied: typing-extensions>=4.9.0 in /usr/local/lib/python3.11/dist-packages (from python-pptx) (4.13.2)\n",
            "Downloading python_pptx-1.0.2-py3-none-any.whl (472 kB)\n",
            "\u001b[2K   \u001b[90m━━━━━━━━━━━━━━━━━━━━━━━━━━━━━━━━━━━━━━━━\u001b[0m \u001b[32m472.8/472.8 kB\u001b[0m \u001b[31m6.4 MB/s\u001b[0m eta \u001b[36m0:00:00\u001b[0m\n",
            "\u001b[?25hDownloading XlsxWriter-3.2.3-py3-none-any.whl (169 kB)\n",
            "\u001b[2K   \u001b[90m━━━━━━━━━━━━━━━━━━━━━━━━━━━━━━━━━━━━━━━━\u001b[0m \u001b[32m169.4/169.4 kB\u001b[0m \u001b[31m15.1 MB/s\u001b[0m eta \u001b[36m0:00:00\u001b[0m\n",
            "\u001b[?25hInstalling collected packages: XlsxWriter, python-pptx\n",
            "Successfully installed XlsxWriter-3.2.3 python-pptx-1.0.2\n"
          ]
        }
      ]
    },
    {
      "cell_type": "markdown",
      "source": [
        "RUTAS DEL GOOGLE DRIVE"
      ],
      "metadata": {
        "id": "49KfBZcwsv5w"
      }
    },
    {
      "cell_type": "code",
      "source": [
        "imagen1 = \"/content/drive/MyDrive/AUTOPP/INGENICAM.png\"  # IMAGEN SUPERIOR IZQUIERDA\n",
        "carpeta_logo = \"/content/drive/MyDrive/AUTOPP/LOGO DE LA EMPRESA\" #IMAGEN DEL LOGO DE LA EMPRESA CON LA QUE SE TRABAJARA\n",
        "carpeta1 = \"/content/drive/MyDrive/AUTOPP/IMAGENES ANTES\"     # IMAGENES DEL ANTES (LADO IZQUIERDO)\n",
        "carpeta2 = \"/content/drive/MyDrive/AUTOPP/IMAGENES DESPUES\"   # IMAGENES DEL DESPUES (LADO DERECHO)"
      ],
      "metadata": {
        "id": "FSxP3jfQs1-3"
      },
      "execution_count": null,
      "outputs": []
    },
    {
      "cell_type": "markdown",
      "source": [
        "CREAMOS LA PRESENTACIONES Y SE AÑADEN LAS IMAGENES"
      ],
      "metadata": {
        "id": "Y4KmPZJ-s_3W"
      }
    },
    {
      "cell_type": "code",
      "source": [
        "#PRIMERO SE BUSCARA LA IMAGEN DEL LOGO DE LA CARPETA DE LOGO DE LA EMPRESA\n",
        "imagen2 = None\n",
        "for archivo in os.listdir(carpeta_logo):\n",
        "    if archivo.lower().endswith(('.png', '.jpg', '.jpeg')):\n",
        "        imagen2 = os.path.join(carpeta_logo, archivo)\n",
        "        break\n",
        "\n",
        "# SE CREA LA PRESENTACIÓN VACÍA\n",
        "prs = Presentation()\n",
        "slide_width = prs.slide_width\n",
        "slide_height = prs.slide_height\n",
        "\n",
        "# SE DEFINEN EL TAMAÑO DE LAS IMAGENES\n",
        "img1_top = Inches(0.3)\n",
        "img1_left = Inches(0.3)\n",
        "img_width = Inches(2.5)\n",
        "img_height = Inches(2.5)\n",
        "img_space = Inches(0.3)\n",
        "\n",
        "# SE DEFINE LA POSICION DE LA SEGUNDA IMAGEN (LA DEL LOGO DE LA EMPRESA CON LA QUE SE TRABAJA) A LA DERECHA\n",
        "img2_left = slide_width - img_width - Inches(0.3)\n",
        "\n",
        "# PRIMERA DIAPOSITIVA\n",
        "slide = prs.slides.add_slide(prs.slide_layouts[6])\n",
        "slide.shapes.add_picture(imagen1, img1_left, img1_top, width=img_width)\n",
        "slide.shapes.add_picture(imagen2, img2_left, img1_top, width=img_width)\n",
        "\n",
        "#PARTE DEL CODIGO PARA PONER EL TEXTO \"PROYECTO\"\n",
        "txBox = slide.shapes.add_textbox(\n",
        "    left=slide_width / 4,\n",
        "    top=slide_height / 2 - Inches(0.5),\n",
        "    width=slide_width / 2,\n",
        "    height=Inches(1)\n",
        ")\n",
        "tf = txBox.text_frame\n",
        "p = tf.paragraphs[0]\n",
        "p.text = \"PROYECTO:\"\n",
        "p.alignment = PP_ALIGN.CENTER\n",
        "p.font.size = Pt(44)\n",
        "\n",
        "# DEMÁS DIAPOSITIVAS (BUCLE PARA LAS DEMAS DIAPOSITIVAS)\n",
        "#SE BUSCAN LAS IMAGENES DE LAS CARPETAS\n",
        "imagenes_carpeta1 = sorted([os.path.join(carpeta1, f)\n",
        "                            for f in os.listdir(carpeta1)\n",
        "                            if f.lower().endswith(('.png', '.jpg', '.jpeg'))])\n",
        "imagenes_carpeta2 = sorted([os.path.join(carpeta2, f)\n",
        "                            for f in os.listdir(carpeta2)\n",
        "                            if f.lower().endswith(('.png', '.jpg', '.jpeg'))])\n",
        "\n",
        "#SE BUSCA QUE TODAS LAS IMAGENES QUEDEN BIEN EN LAS DIAPOSITIVAS\n",
        "num_imagenes = max(len(imagenes_carpeta1), len(imagenes_carpeta2))\n",
        "num_diapos = math.ceil(num_imagenes / 2)\n",
        "\n",
        "#SE EMPIEZA A METER LAS IMAGENES EN LAS DIAPOSITIVAS\n",
        "for i in range(num_diapos):\n",
        "    slide = prs.slides.add_slide(prs.slide_layouts[6]) #SE VAN CREANDO NUEVAS DIAPOSITIVAS\n",
        "\n",
        "    #LAS IMAGENES DEL LOGO DE LA EMPRESA Y LA DEL LOGO DE LA EMPRESA CON LA QUE SE TRABAJA SE REPITEN EN TODAS LAS DEMAS DIAPOSITIVAS\n",
        "    slide.shapes.add_picture(imagen1, img1_left, img1_top, width=img_width)\n",
        "    slide.shapes.add_picture(imagen2, img2_left, img1_top, width=img_width)\n",
        "\n",
        "    #SE PONEN LAS IMAGENES DEL ANTES Y DESPUES\n",
        "    offset_top = img1_top + Inches(2)\n",
        "\n",
        "    #PRIMERO SE PONDRA LAS IMAGENES DEL ANTES (LADO IZQUIERDO)\n",
        "    for j in range(2): #PARA CADA DIAPOSITIVA SE PONDRA DOS IMAGENES DEL ANTES\n",
        "        idx = i * 2 + j\n",
        "        if idx < len(imagenes_carpeta1):\n",
        "            top = offset_top + j * (img_height + img_space)\n",
        "            slide.shapes.add_picture(imagenes_carpeta1[idx], img1_left, top, width=img_width)\n",
        "\n",
        "            #AQUI SE AGREGARA EL TEXTO DEBAJO DE CADA IMAGEN\n",
        "            txBox = slide.shapes.add_textbox(\n",
        "                left=img1_left,\n",
        "                top=top + img_height - Inches(1),\n",
        "                width=img_width,\n",
        "                height=Inches(0.5)\n",
        "            )\n",
        "            tf = txBox.text_frame\n",
        "            p = tf.paragraphs[0]\n",
        "            p.text = \"ANTES\"\n",
        "            p.alignment = PP_ALIGN.CENTER\n",
        "            p.font.size = Pt(18)\n",
        "#DESPUES SE PONDRAN LAS IMAGENES DEL LADO DERECHO\n",
        "    for j in range(2):\n",
        "        idx = i * 2 + j\n",
        "        if idx < len(imagenes_carpeta2):\n",
        "            top = offset_top + j * (img_height + img_space)\n",
        "            slide.shapes.add_picture(imagenes_carpeta2[idx], img2_left, top, width=img_width)\n",
        "\n",
        "            txBox = slide.shapes.add_textbox(\n",
        "                left=img2_left,\n",
        "                top=top + img_height - Inches(1),\n",
        "                width=img_width,\n",
        "                height=Inches(0.5)\n",
        "            )\n",
        "            tf = txBox.text_frame\n",
        "            p = tf.paragraphs[0]\n",
        "            p.text = \"DESPUES\"\n",
        "            p.alignment = PP_ALIGN.CENTER\n",
        "            p.font.size = Pt(18)\n"
      ],
      "metadata": {
        "id": "Ov0sxozFtEcF"
      },
      "execution_count": null,
      "outputs": []
    },
    {
      "cell_type": "markdown",
      "source": [
        "GUARDAR LA PRESENTACIÓN EN GOOGLE DRIVE"
      ],
      "metadata": {
        "id": "Hqjer-NLxFLw"
      }
    },
    {
      "cell_type": "code",
      "source": [
        "output_path = \"/content/drive/MyDrive/AUTOPP/AUTOMATIZACION_DOCUMENTO.pptx\"\n",
        "prs.save(output_path)"
      ],
      "metadata": {
        "id": "ubwj_EEdxG6Q"
      },
      "execution_count": null,
      "outputs": []
    }
  ]
}